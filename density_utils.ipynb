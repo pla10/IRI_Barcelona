{
 "cells": [
  {
   "cell_type": "code",
   "execution_count": null,
   "metadata": {},
   "outputs": [],
   "source": [
    "import numpy as np\n",
    "import pandas as pd \n",
    "import os"
   ]
  },
  {
   "cell_type": "code",
   "execution_count": null,
   "metadata": {},
   "outputs": [],
   "source": [
    "# PGM to CSV\n",
    "\n",
    "map_list = ['master_big','willow','costacafe','map1','map2','map3','stanford_coupa0', 'stanford_coupa3','stanford_hyang1','stanford_hyang10','stanford_gates2']\n",
    "\n",
    "for map_name in map_list:\n",
    "    print(f'map: {map_name} --------------')\n",
    "    direc = 'maps/semantics/'+map_name+'/'\n",
    "    file_list = os.listdir(direc)\n",
    "    i = 0\n",
    "    while i < len(file_list):\n",
    "        if not \".pgm\" in file_list[i]:\n",
    "            file_list.remove(file_list[i])\n",
    "            i = i-1\n",
    "        i = i+1\n",
    "\n",
    "    for file in file_list:\n",
    "        lines = 0\n",
    "        print(direc+file)\n",
    "        with open(direc+file) as f:\n",
    "            lines = f.readlines()\n",
    "\n",
    "        sizes = lines[2].split(' ')\n",
    "        h = int(sizes[1])\n",
    "        w = int(sizes[0])\n",
    "\n",
    "        map = np.zeros((h,w))\n",
    "\n",
    "        count = 0\n",
    "        # Converts data to a list of integers\n",
    "        for line in lines[3:-1]:\n",
    "            map[int(count/w),count%w] = int(line)\n",
    "            # map[int(count/w),count%w] = int(int(line)>254)*255\n",
    "            count = count +1\n",
    "\n",
    "        df = pd.DataFrame(map)\n",
    "        df = df.astype(int)\n",
    "        output_file = list(direc+file)\n",
    "        output_file[-3:] = 'csv'\n",
    "        output_file = ''.join(output_file)\n",
    "        df.to_csv(output_file,header=None, index=None)"
   ]
  },
  {
   "cell_type": "code",
   "execution_count": null,
   "metadata": {},
   "outputs": [],
   "source": [
    "# # CSV to PGM\n",
    "\n",
    "# lines = 0\n",
    "# with open('maps/semantics/master_big/humandensityvel-master_big-test.csv') as f:\n",
    "#     lines = f.readlines()\n",
    "\n",
    "# h = len(lines)\n",
    "# w = len(lines[0].split(','))\n",
    "\n",
    "# count = 0\n",
    "# data = []\n",
    "# map = []\n",
    "# map.extend(['P2'])\n",
    "# map.extend([f'{w}, {h}'])\n",
    "# map.extend([f'255'])\n",
    "# # Converts data to a list of integers\n",
    "# for line in lines:\n",
    "#     map.extend([int(float(c)*255) for c in line.split(',')])\n",
    "\n",
    "# np.savetxt(\"maps/semantics/master_big/humandensityvel-master_big-test.pgm\",map,fmt='%s')"
   ]
  },
  {
   "cell_type": "code",
   "execution_count": null,
   "metadata": {},
   "outputs": [],
   "source": [
    "n = [1.0726, 0.6876, 0.3142, 0.6305, 0.3944]\n",
    "print(np.mean(n))"
   ]
  }
 ],
 "metadata": {
  "kernelspec": {
   "display_name": "tensorflow",
   "language": "python",
   "name": "python3"
  },
  "language_info": {
   "codemirror_mode": {
    "name": "ipython",
    "version": 3
   },
   "file_extension": ".py",
   "mimetype": "text/x-python",
   "name": "python",
   "nbconvert_exporter": "python",
   "pygments_lexer": "ipython3",
   "version": "3.10.11"
  },
  "orig_nbformat": 4
 },
 "nbformat": 4,
 "nbformat_minor": 2
}
