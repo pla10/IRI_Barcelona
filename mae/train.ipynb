{
 "cells": [
  {
   "cell_type": "code",
   "execution_count": null,
   "metadata": {},
   "outputs": [],
   "source": [
    "import os\n",
    "import torch\n",
    "from torch.multiprocessing import spawn  # Import spawn for clarity\n",
    "\n",
    "# Import the main function for distributed training\n",
    "from main_ViT import main\n",
    "\n",
    "\n",
    "# -------------------------\n",
    "# Distributed Training Setup\n",
    "# -------------------------\n",
    "if __name__ == '__main__':\n",
    "    # Get the number of available GPUs\n",
    "    world_size = torch.cuda.device_count()\n",
    "    print('Available GPUs:', world_size)\n",
    "\n",
    "    # Environment variables for distributed process coordination\n",
    "    os.environ['MASTER_ADDR'] = 'localhost'  # Address of the master process\n",
    "    os.environ['MASTER_PORT'] = '12355'     # Port for communication\n",
    "    os.environ['WORLD_SIZE'] = str(world_size)  # Total number of processes\n",
    "\n",
    "    # Launch the 'main' function as multiple distributed processes\n",
    "    spawn(main, nprocs=world_size, args=(world_size,)) "
   ]
  }
 ],
 "metadata": {
  "kernelspec": {
   "display_name": "Python 3",
   "language": "python",
   "name": "python3"
  },
  "language_info": {
   "codemirror_mode": {
    "name": "ipython",
    "version": 3
   },
   "file_extension": ".py",
   "mimetype": "text/x-python",
   "name": "python",
   "nbconvert_exporter": "python",
   "pygments_lexer": "ipython3",
   "version": "3.10.12"
  }
 },
 "nbformat": 4,
 "nbformat_minor": 2
}
