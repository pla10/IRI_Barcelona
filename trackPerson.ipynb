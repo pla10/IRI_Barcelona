{
 "cells": [
  {
   "cell_type": "code",
   "execution_count": 4,
   "metadata": {},
   "outputs": [],
   "source": [
    "from boxmot import DeepOCSORT\n",
    "from pathlib import Path\n",
    "import cv2\n",
    "import numpy as np\n",
    "import matplotlib.pyplot as plt"
   ]
  },
  {
   "cell_type": "code",
   "execution_count": null,
   "metadata": {},
   "outputs": [],
   "source": [
    "# tracker = DeepOCSORT(\n",
    "#     model_weights=Path('osnet_x0_25_msmt17.pt'), # which ReID model to use\n",
    "#     device='cpu:0',\n",
    "#     fp16=True,\n",
    "# )\n",
    "\n",
    "vid = cv2.VideoCapture(0)\n",
    "color = (0, 0, 255)  # BGR\n",
    "thickness = 2\n",
    "fontscale = 0.5\n",
    "\n",
    "while True:\n",
    "    ret, frame = vid.read()\n",
    "\n",
    "    # # substitute by your object detector, output has to be N X (x, y, x, y, conf, cls)\n",
    "    # dets = np.array([[144, 212, 578, 480, 0.82, 0],\n",
    "    #                 [425, 281, 576, 472, 0.56, 65]])\n",
    "    \n",
    "    # ts = tracker.update(dets, frame) # --> (x, y, x, y, id, conf, cls)\n",
    "    \n",
    "    # xyxys = ts[:, 0:4].astype('int') # float64 to int\n",
    "    # ids = ts[:, 4].astype('int') # float64 to int\n",
    "    # confs = ts[:, 5]\n",
    "    # clss = ts[:, 6]\n",
    "\n",
    "    # # print bboxes with their associated id, cls and conf\n",
    "    # if ts.shape[0] != 0:\n",
    "    #     for xyxy, id, conf, cls in zip(xyxys, ids, confs, clss):\n",
    "    #         frame = cv2.rectangle(\n",
    "    #             frame,\n",
    "    #             (xyxy[0], xyxy[1]),\n",
    "    #             (xyxy[2], xyxy[3]),\n",
    "    #             color,  \n",
    "    #             thickness\n",
    "    #         )\n",
    "    #         cv2.putText(\n",
    "    #             frame,\n",
    "    #             f'id: {id}, conf: {conf}, c: {cls}',\n",
    "    #             (xyxy[0], xyxy[1]-10),\n",
    "    #             cv2.FONT_HERSHEY_SIMPLEX,\n",
    "    #             fontscale,\n",
    "    #             color,\n",
    "    #             thickness\n",
    "    #         )\n",
    "\n",
    "    # show image with bboxes, ids, classes and confidences\n",
    "    cv2.imshow('frame', frame)"
   ]
  },
  {
   "cell_type": "code",
   "execution_count": 2,
   "metadata": {},
   "outputs": [
    {
     "name": "stderr",
     "output_type": "stream",
     "text": [
      "2023-07-13 18:18:13.996 python[73550:4899356] mac-virtualcam(DAL): PlugInMain version=1.3.0\n",
      "2023-07-13 18:18:13.996 python[73550:4899356] mac-virtualcam(DAL): HardwarePlugIn_QueryInterface \n",
      "2023-07-13 18:18:13.996 python[73550:4899356] mac-virtualcam(DAL): HardwarePlugIn_Release sRefCount now = 0\n",
      "2023-07-13 18:18:13.996 python[73550:4899356] mac-virtualcam(DAL): HardwarePlugIn_InitializeWithObjectID self=0x28c701638\n",
      "2023-07-13 18:18:13.996 python[73550:4899356] mac-virtualcam(DAL): HardwarePlugIn_ObjectSetPropertyData OBSDALDevice(33) kCMIOObjectPropertyListenerAdded self=0x28c701638 data(int)=1684629094\n",
      "2023-07-13 18:18:13.997 python[73550:4899356] mac-virtualcam(DAL): HardwarePlugIn_ObjectSetPropertyData OBSDALDevice(33) kCMIOObjectPropertyListenerAdded self=0x28c701638 data(int)=1869180523\n",
      "2023-07-13 18:18:13.997 python[73550:4899356] mac-virtualcam(DAL): HardwarePlugIn_ObjectSetPropertyData OBSDALDevice(33) kCMIOObjectPropertyListenerAdded self=0x28c701638 data(int)=1885762592\n",
      "2023-07-13 18:18:15.149 python[73550:4899356] mac-virtualcam(DAL): HardwarePlugIn_ObjectSetPropertyData OBSDALDevice(33) kCMIOObjectPropertyListenerAdded self=0x28c701638 data(int)=1818850926\n",
      "2023-07-13 18:18:15.150 python[73550:4899356] mac-virtualcam(DAL): HardwarePlugIn_ObjectSetPropertyData OBSDALDevice(33) kCMIOObjectPropertyListenerAdded self=0x28c701638 data(int)=1651797110\n",
      "2023-07-13 18:18:15.150 python[73550:4899356] mac-virtualcam(DAL): HardwarePlugIn_ObjectSetPropertyData OBSDALDevice(33) kCMIOObjectPropertyListenerAdded self=0x28c701638 data(int)=1651798900\n",
      "2023-07-13 18:18:15.150 python[73550:4899356] mac-virtualcam(DAL): HardwarePlugIn_ObjectSetPropertyData OBSDALDevice(33) kCMIOObjectPropertyListenerAdded self=0x28c701638 data(int)=1869180523\n",
      "2023-07-13 18:18:15.150 python[73550:4899356] mac-virtualcam(DAL): HardwarePlugIn_ObjectSetPropertyData OBSDALDevice(33) kCMIOObjectPropertyListenerAdded self=0x28c701638 data(int)=1937009955\n",
      "2023-07-13 18:18:15.150 python[73550:4899356] mac-virtualcam(DAL): HardwarePlugIn_ObjectSetPropertyData OBSDALDevice(33) kCMIOObjectPropertyListenerAdded self=0x28c701638 data(int)=1886156132\n",
      "2023-07-13 18:18:15.150 python[73550:4899356] mac-virtualcam(DAL): HardwarePlugIn_ObjectSetPropertyData OBSDALDevice(33) kCMIOObjectPropertyListenerAdded self=0x28c701638 data(int)=1935833461\n",
      "2023-07-13 18:18:15.150 python[73550:4899356] mac-virtualcam(DAL): HardwarePlugIn_ObjectSetPropertyData OBSDALStream(34) kCMIOObjectPropertyListenerAdded self=0x28c701638 data(int)=1885762592\n",
      "2023-07-13 18:18:15.151 python[73550:4899356] mac-virtualcam(DAL): HardwarePlugIn_ObjectSetPropertyData OBSDALStream(34) kCMIOObjectPropertyListenerAdded self=0x28c701638 data(int)=1852207732\n",
      "2023-07-13 18:18:15.151 python[73550:4899356] mac-virtualcam(DAL): HardwarePlugIn_ObjectSetPropertyData OBSDALStream(34) kCMIOObjectPropertyListenerAdded self=0x28c701638 data(int)=1835430516\n",
      "2023-07-13 18:18:15.169 python[73550:4899413] mac-virtualcam(DAL): PlugIn unhandled hasPropertyWithAddress for Unknown selector: ddsc\n"
     ]
    }
   ],
   "source": [
    "vid = cv2.VideoCapture(1)\n",
    "# if not vid.isOpened():\n",
    "#     print(\"Cannot open camera\")\n",
    "#     exit()\n",
    "# while True:\n",
    "#     # Capture frame-by-frame\n",
    "#     ret, frame = vid.read()\n",
    "#     # if frame is read correctly ret is True\n",
    "#     if not ret:\n",
    "#         print(\"Can't receive frame (stream end?). Exiting ...\")\n",
    "#         break\n",
    "#     frame = cv2.cvtColor(frame, cv2.COLOR_BGR2GRAY)\n",
    "#     # Display the resulting frame\n",
    "#     cv2.imshow('frame', frame)"
   ]
  },
  {
   "cell_type": "code",
   "execution_count": null,
   "metadata": {},
   "outputs": [],
   "source": [
    "# When everything done, release the capture\n",
    "vid.release()\n",
    "cv2.destroyAllWindows()"
   ]
  }
 ],
 "metadata": {
  "kernelspec": {
   "display_name": "ROS",
   "language": "python",
   "name": "python3"
  },
  "language_info": {
   "codemirror_mode": {
    "name": "ipython",
    "version": 3
   },
   "file_extension": ".py",
   "mimetype": "text/x-python",
   "name": "python",
   "nbconvert_exporter": "python",
   "pygments_lexer": "ipython3",
   "version": "3.10.11"
  },
  "orig_nbformat": 4
 },
 "nbformat": 4,
 "nbformat_minor": 2
}
