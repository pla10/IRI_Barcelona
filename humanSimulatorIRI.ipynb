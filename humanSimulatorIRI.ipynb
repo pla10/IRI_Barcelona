{
 "cells": [
  {
   "cell_type": "code",
   "execution_count": 110,
   "metadata": {},
   "outputs": [],
   "source": [
    "import matplotlib.pyplot as plt\n",
    "import numpy as np\n",
    "import pandas as pd \n",
    "import skimage.measure\n",
    "\n",
    "from IPython.display import clear_output\n",
    "\n",
    "import random\n",
    "import time\n",
    "import copy\n",
    "import math\n",
    "import os"
   ]
  },
  {
   "cell_type": "code",
   "execution_count": 34,
   "metadata": {},
   "outputs": [
    {
     "name": "stdout",
     "output_type": "stream",
     "text": [
      "master_big\n"
     ]
    },
    {
     "data": {
      "image/png": "[encoded data removed]",
      "text/plain": [
       "<Figure size 394.667x456 with 1 Axes>"
      ]
     },
     "metadata": {},
     "output_type": "display_data"
    }
   ],
   "source": [
    "div = 32\n",
    "step = int(32/4)\n",
    "\n",
    "sem_dict = ['cash', 'entrance', 'light', 'sit', 'stairs', 'trash', 'tree']\n",
    "chans = len(sem_dict)+1\n",
    "\n",
    "map_list = ['master_big'] #'master_big','willow','costacafe','map1','map2','map3']\n",
    "\n",
    "# -----------------------------------------------------------------------------------\n",
    "for map_name in map_list:\n",
    "  print(map_name)\n",
    "\n",
    "  lines = 0\n",
    "  with open('maps/semantics/'+map_name+'/'+map_name+'.csv') as f:\n",
    "    lines = f.readlines()\n",
    "\n",
    "  h = len(lines)\n",
    "  w = len(lines[0].split(','))\n",
    "\n",
    "  # Converts data to a list of integers\n",
    "  map = []\n",
    "  for line in lines:\n",
    "    map.extend([int(c) for c in line.split(',')])\n",
    "\n",
    "  for lab_class in sem_dict:\n",
    "    lines = 0\n",
    "    with open('maps/semantics/'+map_name+'/'+map_name+'_sem_'+lab_class+'.csv') as f:\n",
    "      lines = f.readlines()\n",
    "\n",
    "    hh = len(lines)\n",
    "    ww = len(lines[0].split(','))\n",
    "\n",
    "    if hh != h or ww != w:\n",
    "      print(f'h: {h}\\tw: {w}')\n",
    "      print(f'h: {hh}\\tw: {ww}')\n",
    "      raise SystemExit(\"ERROR: Different sizes!!\")\n",
    "\n",
    "    # Converts data to a list of integers\n",
    "    for line in lines:\n",
    "      map.extend([int(c) for c in line.split(',')])\n",
    "\n",
    "  map = np.reshape(map,[chans,h,w])\n",
    "  map = np.moveaxis(map, 0, -1)\n",
    "  map = map/255\n",
    "\n",
    "  # # -----------------------------------------------------------------------------------\n",
    "  # lines = 0\n",
    "  # with open('maps/semantics/'+map_name+'/humandensity-'+map_name+'5.csv') as f:\n",
    "  #   lines = f.readlines()\n",
    "\n",
    "  # hd = len(lines)\n",
    "  # wd = len(lines[0].split(','))\n",
    "\n",
    "  # # Converts data to a list of integers\n",
    "  # data = []\n",
    "  # for line in lines:\n",
    "  #   data.extend([int(c) for c in line.split(',')])\n",
    "\n",
    "  # data = np.reshape(data,[hd,wd])\n",
    "  # data = np.subtract(data, np.full((h, w), np.min(data)))/(np.max(data)-np.min(data))\n",
    "\n",
    "  alp = 0.5\n",
    "  complete_map = np.stack((map[:,:,0],map[:,:,0],map[:,:,0]),axis=2)\n",
    "  for i in range(len(sem_dict)):\n",
    "    complete_map = np.multiply(complete_map, np.stack((map[:,:,i],map[:,:,i],map[:,:,i]),axis=2)*alp+(1-alp))\n",
    "\n",
    "  fig = plt.figure(figsize=(w/150,h/150))\n",
    "  plt.imshow(complete_map, vmin=0, vmax=1)\n",
    "  plt.show()"
   ]
  },
  {
   "attachments": {},
   "cell_type": "markdown",
   "metadata": {},
   "source": [
    "Many people tend to walk at about 1.42 metres per second (5.1 km/h; 3.2 mph; 4.7 ft/s).\n",
    "\n",
    "Add benches, tables & chairs\n",
    "Add also velocity information (two different maps for velocities and regions of stop)\n",
    "Add heading of motion (directional velocity)\n",
    "MAYBE Time of the day\n",
    "\n",
    "mobility: main cues they are looking for (narrow places, which other criterias?) \"Criterium\" what do we need to look for\n",
    "(from computer vision)"
   ]
  },
  {
   "cell_type": "code",
   "execution_count": null,
   "metadata": {},
   "outputs": [],
   "source": [
    "human_path = 1+np.zeros(map[:,:,0].shape)\n",
    "\n",
    "thickness = 10\n",
    "span = int(thickness/2)\n",
    "\n",
    "position = np.array((290, 5))\n",
    "objective = np.array((250, 250))\n",
    "k = 2\n",
    "dt = 0.1\n",
    "\n",
    "pix = 0.1 #meters/pixel\n",
    "max_vel = 1.5 / pix\n",
    "\n",
    "while True:\n",
    "    acc = np.array((k*(objective[0] - position[0]), k*(objective[1] - position[1])))\n",
    "    vel = np.array((min(acc[0] * dt, max_vel), min(acc[1] * dt, max_vel)))\n",
    "    space = vel * dt\n",
    "    position = np.add(position, (round(space[0]),round(space[1])))\n",
    "    human_path[position[0]-span:position[0]+span,position[1]-span:position[1]+span] = 0\n",
    "\n",
    "    \n",
    "    clear_output(wait=True)\n",
    "    plt.figure(figsize=(w/150,h/150))\n",
    "    plt.imshow(np.multiply(np.stack((map[:,:,0],map[:,:,0],map[:,:,0]),axis=2), np.stack((np.full(map[:,:,0].shape,1),human_path,human_path),axis=2)), vmin=0, vmax=1)\n",
    "    plt.show()\n",
    "\n",
    "    print(acc)\n",
    "    print(vel)\n",
    "    print(space)\n",
    "    print(position)\n",
    "\n",
    "    time.sleep(dt)"
   ]
  }
 ],
 "metadata": {
  "kernelspec": {
   "display_name": "ROS",
   "language": "python",
   "name": "python3"
  },
  "language_info": {
   "codemirror_mode": {
    "name": "ipython",
    "version": 3
   },
   "file_extension": ".py",
   "mimetype": "text/x-python",
   "name": "python",
   "nbconvert_exporter": "python",
   "pygments_lexer": "ipython3",
   "version": "3.10.11"
  },
  "orig_nbformat": 4
 },
 "nbformat": 4,
 "nbformat_minor": 2
}
